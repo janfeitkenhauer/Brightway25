{
 "cells": [
  {
   "cell_type": "markdown",
   "id": "5e5999e0-199e-471a-9588-ff2743cba889",
   "metadata": {},
   "source": [
    "# LCA with Brightway2.5 - Ecoinvent"
   ]
  },
  {
   "cell_type": "markdown",
   "id": "a4435eea-d125-4976-8064-90f51bc7ef71",
   "metadata": {},
   "source": [
    "This notebook was designed to conduct LCAs using the brightway2.5 framework. I will add content in the future and make the code run more efficiently. For now, everything works within its limits and newcomers should have an easy entry to LCA using brightway.  \n",
    "\n",
    "If you need to read up on literature, I provided some links about the tools, you'll be working with:  \n",
    "\n",
    "1. [Python](https://www.python.org/)\n",
    "2. [Brightway2.5](https://docs.brightway.dev/en/legacy/)\n",
    "3. [Ecoinvent 3.11](https://ecoquery.ecoinvent.org/3.11/cutoff)\n",
    "4. [Premise](https://premise.readthedocs.io/en/latest/) (coming soon, I hope)\n",
    "\n",
    "Before you start, check the kernel on the top right. It should be \"Python (env_bw25)\" or whatever you named it in your virtual environment. If you are missing some functionality, check the brightway [cheat sheet](https://docs.brightway.dev/en/latest/content/cheatsheet/index.html).  \n",
    "\n",
    "Enough blib blab, let's get started! 👾"
   ]
  },
  {
   "cell_type": "markdown",
   "id": "8c4ec2a4-2335-4656-a82c-8a579cee7286",
   "metadata": {},
   "source": [
    "### Step 0: Preparation"
   ]
  },
  {
   "cell_type": "code",
   "execution_count": 389,
   "id": "b295c4aa-d167-4249-8b5a-79f8aef7153f",
   "metadata": {},
   "outputs": [
    {
     "name": "stdout",
     "output_type": "stream",
     "text": [
      "bw2data version (4, 0, 'dev56')\n",
      "bw2io version 0.9.DEV38\n",
      "bw2calc version 2.0.DEV22\n"
     ]
    }
   ],
   "source": [
    "# Start by importing the brightway packages and some addons to calculate the results.\n",
    "# There is no magic happening yet so don't get all excited.\n",
    "\n",
    "# Brightway packages.\n",
    "import bw2data as bd\n",
    "import bw2io as bi\n",
    "import bw2calc as bc\n",
    "\n",
    "# Packages for calculation and stuff.\n",
    "import matplotlib.pyplot as plt\n",
    "import numpy as np\n",
    "import pandas as pd\n",
    "\n",
    "# System & authentication packages.\n",
    "import os\n",
    "from dotenv import load_dotenv, dotenv_values\n",
    "\n",
    "# Ecoinvent packages.\n",
    "from ecoinvent_interface import Settings, EcoinventRelease, ReleaseType\n",
    "\n",
    "# Extra package to create UUIDs for your activities.\n",
    "import hashlib\n",
    "\n",
    "# Brightway version check, in case an error occurs.\n",
    "print(\"bw2data version\", bd.__version__)\n",
    "print(\"bw2io version\", bi.__version__)\n",
    "print(\"bw2calc version\", bc.__version__)"
   ]
  },
  {
   "cell_type": "markdown",
   "id": "e658d4a8-da1f-4641-a966-82ebcae1e55d",
   "metadata": {
    "jp-MarkdownHeadingCollapsed": true
   },
   "source": [
    "### Step 1: Project setup"
   ]
  },
  {
   "cell_type": "markdown",
   "id": "2c52d4d1-0c84-4ec8-8962-aaac4fce4303",
   "metadata": {},
   "source": [
    "Brightway is organized in projects to separate the individual settings of your LCA. Project management functions are included and self-explanatory.  \n",
    "\n",
    "Continue by setting up your project."
   ]
  },
  {
   "cell_type": "code",
   "execution_count": 380,
   "id": "f0ac5318-2fa1-44ec-b9c9-0d9d38ae8124",
   "metadata": {},
   "outputs": [
    {
     "data": {
      "text/plain": [
       "Brightway2 projects manager with 2 objects:\n",
       "\tdefault\n",
       "\ttemplate\n",
       "Use `projects.report()` to get a report on all projects."
      ]
     },
     "execution_count": 380,
     "metadata": {},
     "output_type": "execute_result"
    }
   ],
   "source": [
    "# Checking the projects never hurts and gives you an overview of all available projects.\n",
    "bd.projects"
   ]
  },
  {
   "cell_type": "code",
   "execution_count": 381,
   "id": "0c3a5cd9-0205-4203-847b-fd504951085d",
   "metadata": {},
   "outputs": [
    {
     "data": {
      "text/plain": [
       "Brightway2 projects manager with 2 objects:\n",
       "\tdefault\n",
       "\ttemplate\n",
       "Use `projects.report()` to get a report on all projects."
      ]
     },
     "execution_count": 381,
     "metadata": {},
     "output_type": "execute_result"
    }
   ],
   "source": [
    "# Choose your project: activate an existing project or create and activate a new one.\n",
    "bd.projects.set_current(\"template\")\n",
    "bd.projects"
   ]
  },
  {
   "cell_type": "markdown",
   "id": "f5d174c1-5926-4f2f-9c1f-6406df2c2af0",
   "metadata": {
    "jp-MarkdownHeadingCollapsed": true
   },
   "source": [
    "### Step 2: Import Ecoinvent as background database"
   ]
  },
  {
   "cell_type": "markdown",
   "id": "2621dca5-1258-430b-baf3-f602aa8d01c0",
   "metadata": {},
   "source": [
    "Before you can start importing the background database, you need to store your credentials. Otherwise, you won't have access to the data. For convenience, you can use an .env file where you store the user and passcode information locally on your machine.  \n",
    "1. Create an .env file next to this notebook.\n",
    "2. Get your Ecoinvent credentials and save them as variables in the .env like so:\n",
    "\n",
    "> USER=\"YOUR_USERNAME\"  \n",
    "> PASSCODE=\"YOUR_PASSWORD\"\n",
    "\n",
    "The .env keeps your credentials out of this notebook."
   ]
  },
  {
   "cell_type": "code",
   "execution_count": 382,
   "id": "e96aae6c-807c-47e1-a85f-bd5d6cda0aa7",
   "metadata": {},
   "outputs": [
    {
     "data": {
      "text/plain": [
       "Databases dictionary with 5 object(s):\n",
       "\tSilicon wafer production LCA\n",
       "\tecoinvent-3.10.1-biosphere\n",
       "\tecoinvent-3.10.1-cutoff\n",
       "\tecoinvent-3.11-biosphere\n",
       "\tecoinvent-3.11-cutoff"
      ]
     },
     "execution_count": 382,
     "metadata": {},
     "output_type": "execute_result"
    }
   ],
   "source": [
    "# Check the current databases in your active project.\n",
    "bd.databases"
   ]
  },
  {
   "cell_type": "code",
   "execution_count": 383,
   "id": "1adb282a-25a7-40b0-bd13-5dd08e7f3136",
   "metadata": {},
   "outputs": [
    {
     "data": {
      "text/plain": [
       "['3.11',\n",
       " '3.10.1',\n",
       " '3.10',\n",
       " '3.9.1',\n",
       " '3.9',\n",
       " '3.8',\n",
       " '3.7.1',\n",
       " '3.7',\n",
       " '3.6',\n",
       " '3.5',\n",
       " '3.4',\n",
       " '3.3',\n",
       " '3.2',\n",
       " '3.1',\n",
       " '3.01',\n",
       " '2']"
      ]
     },
     "execution_count": 383,
     "metadata": {},
     "output_type": "execute_result"
    }
   ],
   "source": [
    "# Authenticate to Ecoinvent to check available databases.\n",
    "load_dotenv()\n",
    "auth = Settings(username=os.getenv('USER'), password=os.getenv('PASSCODE'))\n",
    "release = EcoinventRelease(auth)\n",
    "release.list_versions()"
   ]
  },
  {
   "cell_type": "code",
   "execution_count": 384,
   "id": "fc87db2c-1108-446c-bf9f-9456eecffb1b",
   "metadata": {},
   "outputs": [
    {
     "data": {
      "text/plain": [
       "['cutoff', 'consequential', 'apos']"
      ]
     },
     "execution_count": 384,
     "metadata": {},
     "output_type": "execute_result"
    }
   ],
   "source": [
    "# Insert the db version you want to work with to check for the avialable system models.\n",
    "release.list_system_models('3.11')"
   ]
  },
  {
   "cell_type": "code",
   "execution_count": 385,
   "id": "b345b7f2-f29a-46aa-b077-101aa22f6f3c",
   "metadata": {},
   "outputs": [],
   "source": [
    "# Specify the database version and model in variables.\n",
    "db_version='3.11'\n",
    "db_system_model='cutoff'"
   ]
  },
  {
   "cell_type": "code",
   "execution_count": 386,
   "id": "d290e318-365d-4714-9488-8eeafa07bbac",
   "metadata": {},
   "outputs": [
    {
     "name": "stdout",
     "output_type": "stream",
     "text": [
      "ecoinvent 3.11 is already present in the project\n"
     ]
    }
   ],
   "source": [
    "# Preemptive check, if the desired database is already present.\n",
    "# If not: Importing database.. This may take some time.\n",
    "if f'ecoinvent-{db_version}-{db_system_model}' in bd.databases:\n",
    "    print(f'ecoinvent {db_version} is already present in the project')\n",
    "else:\n",
    "    bi.import_ecoinvent_release(\n",
    "        version=db_version,\n",
    "        system_model=db_system_model,\n",
    "        username=os.getenv('USER'),\n",
    "        password=os.getenv('PASSCODE')\n",
    "    )"
   ]
  },
  {
   "cell_type": "code",
   "execution_count": 387,
   "id": "777c8618-2072-4d53-88b7-9fffbeb87bdc",
   "metadata": {},
   "outputs": [
    {
     "data": {
      "text/plain": [
       "Databases dictionary with 5 object(s):\n",
       "\tSilicon wafer production LCA\n",
       "\tecoinvent-3.10.1-biosphere\n",
       "\tecoinvent-3.10.1-cutoff\n",
       "\tecoinvent-3.11-biosphere\n",
       "\tecoinvent-3.11-cutoff"
      ]
     },
     "execution_count": 387,
     "metadata": {},
     "output_type": "execute_result"
    }
   ],
   "source": [
    "# Checking project databases\n",
    "bd.databases"
   ]
  },
  {
   "cell_type": "markdown",
   "id": "70c52020-5142-4794-80ae-64e81e600601",
   "metadata": {},
   "source": [
    "### Step 3: Match foreground database"
   ]
  },
  {
   "cell_type": "markdown",
   "id": "486e5870-d982-44a0-9aa1-32eeaefd70f8",
   "metadata": {},
   "source": [
    "Your foreground database contains the LCI data of your product system. This has to be prepared in an excel file. I included an example file with explainations and hints on how to structure your LCI data in order for the import to function correctly.  \n",
    "\n",
    "> You can continue with the template to see how it works OR prepare your LCI data for your LCA.  "
   ]
  },
  {
   "cell_type": "markdown",
   "id": "55127f7b-e54f-4d80-8ba7-eb4dfc200d07",
   "metadata": {
    "jp-MarkdownHeadingCollapsed": true
   },
   "source": [
    "#### Creating codes for activities"
   ]
  },
  {
   "cell_type": "markdown",
   "id": "04479e0c-fab5-4cfe-b073-d06e8e86a05d",
   "metadata": {},
   "source": [
    "As each activity has to be equipped with an unique code, I included the following hash function. You can insert an activity and use the generated hash as its code in your excel file."
   ]
  },
  {
   "cell_type": "code",
   "execution_count": 392,
   "id": "eb98a348-aca4-4871-968f-bd4434fd4005",
   "metadata": {},
   "outputs": [
    {
     "name": "stdout",
     "output_type": "stream",
     "text": [
      "1488553895b0f8eceb7a0e7473cad56b\n"
     ]
    }
   ],
   "source": [
    "# Optional: Hash your activities to create individual codes for them.\n",
    "activity = \"M12 silicon wafer production\"\n",
    "\n",
    "# Calculate the MD5 hash\n",
    "code = hashlib.md5(activity.encode()).hexdigest()\n",
    "print(code)"
   ]
  },
  {
   "cell_type": "markdown",
   "id": "3e338173-04f7-4ddd-bca0-71928473474d",
   "metadata": {},
   "source": [
    "#### Import foreground database"
   ]
  },
  {
   "cell_type": "markdown",
   "id": "0fa2ce13-c216-47fc-a7b0-cc598830e64d",
   "metadata": {},
   "source": [
    "At this point, you have to decide, which background database you want to use in your LCA. Per default, the declared version of the previous step will be used. If you wish to change that, adjust the variables in Step 2 accordingly."
   ]
  },
  {
   "cell_type": "code",
   "execution_count": 393,
   "id": "3dfb819d-7e8c-4c0b-a729-52c6ae08bc62",
   "metadata": {},
   "outputs": [
    {
     "name": "stdout",
     "output_type": "stream",
     "text": [
      "Extracted 3 worksheets in 0.44 seconds\n",
      "Applying strategy: csv_restore_tuples\n",
      "Applying strategy: csv_restore_booleans\n",
      "Applying strategy: csv_numerize\n",
      "Applying strategy: csv_drop_unknown\n",
      "Applying strategy: csv_add_missing_exchanges_section\n",
      "Applying strategy: normalize_units\n",
      "Applying strategy: normalize_biosphere_categories\n",
      "Applying strategy: normalize_biosphere_names\n",
      "Applying strategy: strip_biosphere_exc_locations\n",
      "Applying strategy: set_code_by_activity_hash\n",
      "Applying strategy: link_iterable_by_fields\n",
      "Applying strategy: assign_only_product_as_production\n",
      "Applying strategy: link_technosphere_by_activity_hash\n",
      "Applying strategy: drop_falsey_uncertainty_fields_but_keep_zeros\n",
      "Applying strategy: convert_uncertainty_types_to_integers\n",
      "Applying strategy: convert_activity_parameters_to_list\n",
      "Applied 16 strategies in 30.21 seconds\n",
      "Applying strategy: link_iterable_by_fields\n",
      "Applying strategy: link_iterable_by_fields\n",
      "Applying strategy: link_iterable_by_fields\n",
      "3 datasets\n",
      "\t3 exchanges\n",
      "\tLinks to the following databases:\n",
      "\t\tSilicon wafer production LCA (2 exchanges)\n",
      "\t\tecoinvent-3.11-cutoff (1 exchanges)\n",
      "\t0 unlinked exchanges (0 types)\n",
      "\t\t\n"
     ]
    },
    {
     "data": {
      "text/plain": [
       "(3, 3, 0, 0)"
      ]
     },
     "execution_count": 393,
     "metadata": {},
     "output_type": "execute_result"
    }
   ],
   "source": [
    "# Set the foreground database.\n",
    "excel_file = \"lci_silicon_wafer_production.xlsx\"\n",
    "fg_db = bi.ExcelImporter(excel_file)\n",
    "\n",
    "# Setting variables for background database.\n",
    "bg_db = f'ecoinvent-{db_version}'\n",
    "bg_sys = f'ecoinvent-{db_version}-{db_system_model}'\n",
    "bg_bio = f'ecoinvent-{db_version}-biosphere'\n",
    "\n",
    "# Matching activities against themselfs and against ecoinvent system model and biosphere to check for inconsistencies.\n",
    "fg_db.apply_strategies()\n",
    "fg_db.match_database(fields=[\"name\", \"unit\", \"reference product\", \"location\"])\n",
    "fg_db.match_database(bg_sys, fields=[\"name\", \"unit\", \"location\", \"reference product\"])\n",
    "fg_db.match_database(bg_bio, fields=[\"name\", \"categories\", \"location\"])\n",
    "\n",
    "# Checking for unlinked exchanges.\n",
    "fg_db.statistics()"
   ]
  },
  {
   "cell_type": "code",
   "execution_count": 397,
   "id": "600e10e0-c85a-4041-a5ce-94ec36b2fa1b",
   "metadata": {},
   "outputs": [
    {
     "name": "stdout",
     "output_type": "stream",
     "text": [
      "Not able to determine geocollections for all datasets. This database is not ready for regionalization.\n"
     ]
    },
    {
     "name": "stderr",
     "output_type": "stream",
     "text": [
      "100%|██████████████████████████████████████████████████████████████████████████████████| 3/3 [00:00<00:00, 1530.58it/s]"
     ]
    },
    {
     "name": "stdout",
     "output_type": "stream",
     "text": [
      "Vacuuming database \n"
     ]
    },
    {
     "name": "stderr",
     "output_type": "stream",
     "text": [
      "\n"
     ]
    },
    {
     "name": "stdout",
     "output_type": "stream",
     "text": [
      "Created database: Silicon wafer production LCA\n",
      "Not able to determine geocollections for all datasets. This database is not ready for regionalization.\n"
     ]
    },
    {
     "name": "stderr",
     "output_type": "stream",
     "text": [
      "100%|██████████████████████████████████████████████████████████████████████████████████| 3/3 [00:00<00:00, 1487.87it/s]"
     ]
    },
    {
     "name": "stdout",
     "output_type": "stream",
     "text": [
      "Vacuuming database \n"
     ]
    },
    {
     "name": "stderr",
     "output_type": "stream",
     "text": [
      "\n"
     ]
    },
    {
     "data": {
      "text/plain": [
       "Brightway2 SQLiteBackend: Silicon wafer production LCA_ecoinvent-3.11"
      ]
     },
     "execution_count": 397,
     "metadata": {},
     "output_type": "execute_result"
    }
   ],
   "source": [
    "# If no unlinked exchanges are present, save the foreground database to your project.\n",
    "if fg_db.db_name in bd.databases:\n",
    "    del bd.databases[fg_db.db_name]\n",
    "    fg_db.write_database()\n",
    "else:\n",
    "    fg_db.write_database()\n",
    "\n",
    "bd.Database(fg_db.db_name).rename(f'{fg_db.db_name}_{bg_db}')"
   ]
  },
  {
   "cell_type": "code",
   "execution_count": 403,
   "id": "12840fd4-769f-40cd-9a49-07ecb855cb67",
   "metadata": {},
   "outputs": [
    {
     "data": {
      "text/plain": [
       "Databases dictionary with 4 object(s):\n",
       "\tecoinvent-3.10.1-biosphere\n",
       "\tecoinvent-3.10.1-cutoff\n",
       "\tecoinvent-3.11-biosphere\n",
       "\tecoinvent-3.11-cutoff"
      ]
     },
     "execution_count": 403,
     "metadata": {},
     "output_type": "execute_result"
    }
   ],
   "source": [
    "# Checking project databases\n",
    "bd.databases\n",
    "\n",
    "# Deleting database\n",
    "# del bd.databases[\"<database_name>\"]"
   ]
  },
  {
   "cell_type": "markdown",
   "id": "22caf644-9d45-4efc-a7ca-9e0e917cbc3f",
   "metadata": {},
   "source": [
    "### Step 4: Calculation setup"
   ]
  },
  {
   "cell_type": "markdown",
   "id": "527f0168-f161-4379-803c-20e64efce690",
   "metadata": {},
   "source": [
    "#### Functional Unit"
   ]
  },
  {
   "cell_type": "markdown",
   "id": "cf569b4f-ca6a-4992-9a97-e44b1e89ecdb",
   "metadata": {},
   "source": [
    "With our data in place, we now have to define the parameters of our LCA. In our excel file, the data is structured in processes and activities. Brightway lets us choose the number of activities (as functional units) and methods for our LCA.  \n",
    "\n",
    "Tbd."
   ]
  },
  {
   "cell_type": "code",
   "execution_count": 404,
   "id": "ef1cad3f-86e3-4058-87e9-35c085587807",
   "metadata": {},
   "outputs": [
    {
     "data": {
      "text/plain": [
       "Databases dictionary with 4 object(s):\n",
       "\tecoinvent-3.10.1-biosphere\n",
       "\tecoinvent-3.10.1-cutoff\n",
       "\tecoinvent-3.11-biosphere\n",
       "\tecoinvent-3.11-cutoff"
      ]
     },
     "execution_count": 404,
     "metadata": {},
     "output_type": "execute_result"
    }
   ],
   "source": [
    "# Checking project databases\n",
    "bd.databases"
   ]
  },
  {
   "cell_type": "code",
   "execution_count": 265,
   "id": "83c323c8-9863-4034-b0b0-db79a1351b9a",
   "metadata": {},
   "outputs": [
    {
     "name": "stdin",
     "output_type": "stream",
     "text": [
      "Do you want to calculate all activities or specific ones? (type 'all' or 'specific'):  specific\n"
     ]
    },
    {
     "name": "stdout",
     "output_type": "stream",
     "text": [
      "Available Activities:\n",
      "M12 silicon wafer production\n",
      "M12 silicon wafer cleaning\n",
      "M12 silicon ingot production\n"
     ]
    },
    {
     "name": "stdin",
     "output_type": "stream",
     "text": [
      "Enter the names of the activities you want to include, separated by commas:  M12 silicon wafer production, M12 silicon ingot production\n"
     ]
    },
    {
     "name": "stdout",
     "output_type": "stream",
     "text": [
      "The functional unit has been set accordingly.\n"
     ]
    }
   ],
   "source": [
    "# Choose the database for the LCA\n",
    "wb = bd.Database(\"<database_name>\")\n",
    "\n",
    "# User choice: calculate all activities or specific ones\n",
    "user_choice = input(\"Do you want to calculate all activities or specific ones? (type 'all' or 'specific'): \").strip().lower()\n",
    "\n",
    "if user_choice == 'all':\n",
    "    # If the user wants all activities, loop through them\n",
    "    fu = {act[\"code\"]: {wb.get(act[\"code\"]).id: 1} for act in wb}\n",
    "elif user_choice == 'specific':\n",
    "    # Print all available activities\n",
    "    print(\"Available Activities:\")\n",
    "    for act in wb:\n",
    "        print(act['name'])\n",
    "        \n",
    "    # Ask the user to enter the names of the activities they want\n",
    "    specific_names = input(\"Enter the names of the activities you want to include, separated by commas: \").split(',')\n",
    "\n",
    "    # Create the functional unit based on user input\n",
    "    fu = {}\n",
    "    for name in specific_names:\n",
    "        cleaned_name = name.strip()  # Remove any extra spaces\n",
    "        # Find the corresponding activity by name\n",
    "        matching_activities = [act for act in wb if act['name'].strip().lower() == cleaned_name.lower()]\n",
    "        \n",
    "        if matching_activities:\n",
    "            for act in matching_activities:\n",
    "                fu[act[\"code\"]] = {wb.get(act[\"code\"]).id: 1}\n",
    "        else:\n",
    "            print(f\"Warning: Activity with name '{cleaned_name}' not found in database.\")\n",
    "else:\n",
    "    print(\"Invalid choice. Please type 'all' or 'specific'.\")\n",
    "\n",
    "print(\"The functional unit has been set accordingly.\")"
   ]
  },
  {
   "cell_type": "markdown",
   "id": "e2abd433-9a6a-483f-84fc-6d7481c34761",
   "metadata": {},
   "source": [
    "#### LCIA method"
   ]
  },
  {
   "cell_type": "markdown",
   "id": "692584b4-25aa-4f19-872c-20b7b84457e4",
   "metadata": {},
   "source": [
    "Brightway allowes most LCIA methods to be used in the LCA. Available LCIA methods depend on the database version used in the background.  \n",
    "> Note: Each LCIA method contains various characterization factors or indicators.  \n",
    "> E.g. climate change, acidification, water use, etc.\n",
    "\n",
    "For customization purposes, this template lists all available methods from which you can choose."
   ]
  },
  {
   "cell_type": "code",
   "execution_count": 294,
   "id": "01c8a5cc-95bd-48e7-b80f-e2b01b7e14e4",
   "metadata": {},
   "outputs": [
    {
     "name": "stdout",
     "output_type": "stream",
     "text": [
      "['CML v4.8 2016', 'CML v4.8 2016 no LT', 'Crustal Scarcity Indicator 2020', 'Cumulative Energy Demand (CED)', 'Cumulative Exergy Demand (CExD)', 'EF v3.0', 'EF v3.0 no LT', 'EF v3.1', 'EF v3.1 no LT', 'EN15804+A2 - Additional impact categories and indicators', 'EN15804+A2 - Core impact categories and indicators', 'EN15804+A2 - Indicators describing output flows', 'EN15804+A2 - Indicators describing resource use', 'EN15804+A2 - Indicators describing waste categories', 'EPS 2020d', 'EPS 2020d no LT', 'Ecological Footprint', 'Ecological Scarcity 2021', 'Ecological Scarcity 2021 no LT', 'Ecosystem Damage Potential', 'IMPACT World+ v2.1, footprint version', 'IPCC 2013', 'IPCC 2013 no LT', 'IPCC 2021', 'IPCC 2021 (incl. biogenic CO2)', 'IPCC 2021 (incl. biogenic CO2) no LT', 'IPCC 2021 no LT', 'Inventory results and indicators', 'ReCiPe 2016 v1.03, endpoint (E)', 'ReCiPe 2016 v1.03, endpoint (E) no LT', 'ReCiPe 2016 v1.03, endpoint (H)', 'ReCiPe 2016 v1.03, endpoint (H) no LT', 'ReCiPe 2016 v1.03, endpoint (I)', 'ReCiPe 2016 v1.03, endpoint (I) no LT', 'ReCiPe 2016 v1.03, midpoint (E)', 'ReCiPe 2016 v1.03, midpoint (E) no LT', 'ReCiPe 2016 v1.03, midpoint (H)', 'ReCiPe 2016 v1.03, midpoint (H) no LT', 'ReCiPe 2016 v1.03, midpoint (I)', 'ReCiPe 2016 v1.03, midpoint (I) no LT', 'TRACI v2.1', 'TRACI v2.1 no LT', 'USEtox v2.13, endpoint', 'USEtox v2.13, endpoint no LT', 'USEtox v2.13, midpoint', 'USEtox v2.13, midpoint no LT']\n"
     ]
    }
   ],
   "source": [
    "# Use a set to store unique second entries\n",
    "lcia_methods = set()\n",
    "\n",
    "# Iterate through the data structure and add the second element of each tuple to the set\n",
    "for method in list(filter(lambda x: bg_db in x[0], bd.methods)):\n",
    "    lcia_methods.add(method[1])\n",
    "\n",
    "print(sorted(lcia_methods))"
   ]
  },
  {
   "cell_type": "code",
   "execution_count": 351,
   "id": "6f5d713d-8c7a-418e-a9e2-12fc6e4afdc7",
   "metadata": {},
   "outputs": [],
   "source": [
    "# Choose your LCIA method\n",
    "lcia_method = \"<method_from_list>\""
   ]
  },
  {
   "cell_type": "code",
   "execution_count": 352,
   "id": "ef5bf4c2-feaa-495f-ae80-398c22f43a74",
   "metadata": {},
   "outputs": [
    {
     "name": "stdout",
     "output_type": "stream",
     "text": [
      "We have 18 ReCiPe 2016 v1.03, midpoint (H) no LT methods we will evaluate.\n"
     ]
    }
   ],
   "source": [
    "# Setting the method config and LCA object.\n",
    "my_methods = list(filter(lambda x: lcia_method in x[1] and x[0].startswith(bg_db), bd.methods))\n",
    "print(\"We have\", len(my_methods), f\"{lcia_method} methods we will evaluate.\")\n",
    "\n",
    "config = {\n",
    "    \"impact_categories\": my_methods\n",
    "}\n",
    "\n",
    "# Create our final LCA object used for the calculation in the next step.\n",
    "data_objs = bd.get_multilca_data_objs(functional_units=fu, method_config=config)"
   ]
  },
  {
   "cell_type": "markdown",
   "id": "b11438cb-67c2-47f1-b737-19b0eb3b2326",
   "metadata": {},
   "source": [
    "### Step 5: Calculation"
   ]
  },
  {
   "cell_type": "code",
   "execution_count": 353,
   "id": "fde32ad8-d06d-42d4-a854-d0cf3de8c7e8",
   "metadata": {},
   "outputs": [],
   "source": [
    "# TODO: Ask Chris, why bc.LCA is used. Isn't it possible, to use bc.MultiLCA for single LCA calcs?\n",
    "# lca = bc.LCA({our_activity: 1}, ef_gwp_key)\n",
    "\n",
    "# Calculate MultiLCA\n",
    "lca = bc.MultiLCA(demands=fu, method_config=config, data_objs=data_objs)\n",
    "lca.lci()\n",
    "lca.lcia()\n",
    "\n",
    "# Choose between single or multi LCA\n",
    "# lca.score\n",
    "# Format the results\n",
    "raw_results = lca.scores\n",
    "def transform_raw_results(raw_results, wb):\n",
    "    transformed_results = {}\n",
    "    \n",
    "    for (key, hash_value), outcome in raw_results.items():\n",
    "        # Extract the third value from the first part of the key\n",
    "        category = key[2]  # This corresponds to the third value (e.g., 'climate change', 'human health', etc.)\n",
    "        \n",
    "        # Use wb.get() to fetch the activity name directly\n",
    "        activity_name = wb.get(hash_value)[\"name\"]\n",
    "        \n",
    "        # Construct the new key\n",
    "        new_key = (activity_name, category)\n",
    "        \n",
    "        # Add the new key and outcome to the transformed results\n",
    "        transformed_results[new_key] = outcome\n",
    "    \n",
    "    return transformed_results\n",
    "\n",
    "lca_results = transform_raw_results(raw_results, wb)"
   ]
  },
  {
   "cell_type": "code",
   "execution_count": 354,
   "id": "f8de5ac3-5306-4331-a349-f78141c75067",
   "metadata": {},
   "outputs": [
    {
     "data": {
      "text/html": [
       "<div>\n",
       "<style scoped>\n",
       "    .dataframe tbody tr th:only-of-type {\n",
       "        vertical-align: middle;\n",
       "    }\n",
       "\n",
       "    .dataframe tbody tr th {\n",
       "        vertical-align: top;\n",
       "    }\n",
       "\n",
       "    .dataframe thead th {\n",
       "        text-align: right;\n",
       "    }\n",
       "</style>\n",
       "<table border=\"1\" class=\"dataframe\">\n",
       "  <thead>\n",
       "    <tr style=\"text-align: right;\">\n",
       "      <th>ReCiPe 2016 v1.03, midpoint (H) no LT</th>\n",
       "      <th>acidification: terrestrial no LT</th>\n",
       "      <th>climate change no LT</th>\n",
       "      <th>ecotoxicity: freshwater no LT</th>\n",
       "      <th>ecotoxicity: marine no LT</th>\n",
       "      <th>ecotoxicity: terrestrial no LT</th>\n",
       "      <th>energy resources: non-renewable, fossil no LT</th>\n",
       "      <th>eutrophication: freshwater no LT</th>\n",
       "      <th>eutrophication: marine no LT</th>\n",
       "      <th>human toxicity: carcinogenic no LT</th>\n",
       "      <th>human toxicity: non-carcinogenic no LT</th>\n",
       "      <th>ionising radiation no LT</th>\n",
       "      <th>land use no LT</th>\n",
       "      <th>material resources: metals/minerals no LT</th>\n",
       "      <th>ozone depletion no LT</th>\n",
       "      <th>particulate matter formation no LT</th>\n",
       "      <th>photochemical oxidant formation: human health no LT</th>\n",
       "      <th>photochemical oxidant formation: terrestrial ecosystems no LT</th>\n",
       "      <th>water use no LT</th>\n",
       "    </tr>\n",
       "    <tr>\n",
       "      <th>Activities</th>\n",
       "      <th></th>\n",
       "      <th></th>\n",
       "      <th></th>\n",
       "      <th></th>\n",
       "      <th></th>\n",
       "      <th></th>\n",
       "      <th></th>\n",
       "      <th></th>\n",
       "      <th></th>\n",
       "      <th></th>\n",
       "      <th></th>\n",
       "      <th></th>\n",
       "      <th></th>\n",
       "      <th></th>\n",
       "      <th></th>\n",
       "      <th></th>\n",
       "      <th></th>\n",
       "      <th></th>\n",
       "    </tr>\n",
       "  </thead>\n",
       "  <tbody>\n",
       "    <tr>\n",
       "      <th>M12 silicon ingot production</th>\n",
       "      <td>0.105870</td>\n",
       "      <td>39.905342</td>\n",
       "      <td>0.008977</td>\n",
       "      <td>0.034954</td>\n",
       "      <td>26.323168</td>\n",
       "      <td>11.387785</td>\n",
       "      <td>0.002009</td>\n",
       "      <td>0.000522</td>\n",
       "      <td>0.093474</td>\n",
       "      <td>2.756869</td>\n",
       "      <td>0.700177</td>\n",
       "      <td>1.382015</td>\n",
       "      <td>0.548782</td>\n",
       "      <td>1.318863e-05</td>\n",
       "      <td>0.046754</td>\n",
       "      <td>0.070456</td>\n",
       "      <td>0.073270</td>\n",
       "      <td>0.373432</td>\n",
       "    </tr>\n",
       "    <tr>\n",
       "      <th>M12 silicon wafer production</th>\n",
       "      <td>0.001059</td>\n",
       "      <td>0.399053</td>\n",
       "      <td>0.000090</td>\n",
       "      <td>0.000350</td>\n",
       "      <td>0.263232</td>\n",
       "      <td>0.113878</td>\n",
       "      <td>0.000020</td>\n",
       "      <td>0.000005</td>\n",
       "      <td>0.000935</td>\n",
       "      <td>0.027569</td>\n",
       "      <td>0.007002</td>\n",
       "      <td>0.013820</td>\n",
       "      <td>0.005488</td>\n",
       "      <td>1.318863e-07</td>\n",
       "      <td>0.000468</td>\n",
       "      <td>0.000705</td>\n",
       "      <td>0.000733</td>\n",
       "      <td>0.003734</td>\n",
       "    </tr>\n",
       "  </tbody>\n",
       "</table>\n",
       "</div>"
      ],
      "text/plain": [
       "ReCiPe 2016 v1.03, midpoint (H) no LT  acidification: terrestrial no LT  \\\n",
       "Activities                                                                \n",
       "M12 silicon ingot production                                   0.105870   \n",
       "M12 silicon wafer production                                   0.001059   \n",
       "\n",
       "ReCiPe 2016 v1.03, midpoint (H) no LT  climate change no LT  \\\n",
       "Activities                                                    \n",
       "M12 silicon ingot production                      39.905342   \n",
       "M12 silicon wafer production                       0.399053   \n",
       "\n",
       "ReCiPe 2016 v1.03, midpoint (H) no LT  ecotoxicity: freshwater no LT  \\\n",
       "Activities                                                             \n",
       "M12 silicon ingot production                                0.008977   \n",
       "M12 silicon wafer production                                0.000090   \n",
       "\n",
       "ReCiPe 2016 v1.03, midpoint (H) no LT  ecotoxicity: marine no LT  \\\n",
       "Activities                                                         \n",
       "M12 silicon ingot production                            0.034954   \n",
       "M12 silicon wafer production                            0.000350   \n",
       "\n",
       "ReCiPe 2016 v1.03, midpoint (H) no LT  ecotoxicity: terrestrial no LT  \\\n",
       "Activities                                                              \n",
       "M12 silicon ingot production                                26.323168   \n",
       "M12 silicon wafer production                                 0.263232   \n",
       "\n",
       "ReCiPe 2016 v1.03, midpoint (H) no LT  energy resources: non-renewable, fossil no LT  \\\n",
       "Activities                                                                             \n",
       "M12 silicon ingot production                                               11.387785   \n",
       "M12 silicon wafer production                                                0.113878   \n",
       "\n",
       "ReCiPe 2016 v1.03, midpoint (H) no LT  eutrophication: freshwater no LT  \\\n",
       "Activities                                                                \n",
       "M12 silicon ingot production                                   0.002009   \n",
       "M12 silicon wafer production                                   0.000020   \n",
       "\n",
       "ReCiPe 2016 v1.03, midpoint (H) no LT  eutrophication: marine no LT  \\\n",
       "Activities                                                            \n",
       "M12 silicon ingot production                               0.000522   \n",
       "M12 silicon wafer production                               0.000005   \n",
       "\n",
       "ReCiPe 2016 v1.03, midpoint (H) no LT  human toxicity: carcinogenic no LT  \\\n",
       "Activities                                                                  \n",
       "M12 silicon ingot production                                     0.093474   \n",
       "M12 silicon wafer production                                     0.000935   \n",
       "\n",
       "ReCiPe 2016 v1.03, midpoint (H) no LT  human toxicity: non-carcinogenic no LT  \\\n",
       "Activities                                                                      \n",
       "M12 silicon ingot production                                         2.756869   \n",
       "M12 silicon wafer production                                         0.027569   \n",
       "\n",
       "ReCiPe 2016 v1.03, midpoint (H) no LT  ionising radiation no LT  \\\n",
       "Activities                                                        \n",
       "M12 silicon ingot production                           0.700177   \n",
       "M12 silicon wafer production                           0.007002   \n",
       "\n",
       "ReCiPe 2016 v1.03, midpoint (H) no LT  land use no LT  \\\n",
       "Activities                                              \n",
       "M12 silicon ingot production                 1.382015   \n",
       "M12 silicon wafer production                 0.013820   \n",
       "\n",
       "ReCiPe 2016 v1.03, midpoint (H) no LT  material resources: metals/minerals no LT  \\\n",
       "Activities                                                                         \n",
       "M12 silicon ingot production                                            0.548782   \n",
       "M12 silicon wafer production                                            0.005488   \n",
       "\n",
       "ReCiPe 2016 v1.03, midpoint (H) no LT  ozone depletion no LT  \\\n",
       "Activities                                                     \n",
       "M12 silicon ingot production                    1.318863e-05   \n",
       "M12 silicon wafer production                    1.318863e-07   \n",
       "\n",
       "ReCiPe 2016 v1.03, midpoint (H) no LT  particulate matter formation no LT  \\\n",
       "Activities                                                                  \n",
       "M12 silicon ingot production                                     0.046754   \n",
       "M12 silicon wafer production                                     0.000468   \n",
       "\n",
       "ReCiPe 2016 v1.03, midpoint (H) no LT  photochemical oxidant formation: human health no LT  \\\n",
       "Activities                                                                                   \n",
       "M12 silicon ingot production                                                    0.070456     \n",
       "M12 silicon wafer production                                                    0.000705     \n",
       "\n",
       "ReCiPe 2016 v1.03, midpoint (H) no LT  photochemical oxidant formation: terrestrial ecosystems no LT  \\\n",
       "Activities                                                                                             \n",
       "M12 silicon ingot production                                                    0.073270               \n",
       "M12 silicon wafer production                                                    0.000733               \n",
       "\n",
       "ReCiPe 2016 v1.03, midpoint (H) no LT  water use no LT  \n",
       "Activities                                              \n",
       "M12 silicon ingot production                  0.373432  \n",
       "M12 silicon wafer production                  0.003734  "
      ]
     },
     "execution_count": 354,
     "metadata": {},
     "output_type": "execute_result"
    }
   ],
   "source": [
    "# Display the results in a table\n",
    "dfresults = pd.DataFrame.from_dict(lca_results, orient='index')\n",
    "dfresults.index = pd.MultiIndex.from_tuples(dfresults.index, names=('Activities', lcia_method))\n",
    "dfresults = dfresults.unstack(level=lcia_method)\n",
    "dfresults.columns = dfresults.columns.droplevel(0)\n",
    "dfresults"
   ]
  }
 ],
 "metadata": {
  "kernelspec": {
   "display_name": "Python (env_bw25)",
   "language": "python",
   "name": "env_bw25"
  },
  "language_info": {
   "codemirror_mode": {
    "name": "ipython",
    "version": 3
   },
   "file_extension": ".py",
   "mimetype": "text/x-python",
   "name": "python",
   "nbconvert_exporter": "python",
   "pygments_lexer": "ipython3",
   "version": "3.11.11"
  }
 },
 "nbformat": 4,
 "nbformat_minor": 5
}
