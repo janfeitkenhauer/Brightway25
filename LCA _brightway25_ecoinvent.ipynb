{
 "cells": [
  {
   "cell_type": "markdown",
   "id": "5e5999e0-199e-471a-9588-ff2743cba889",
   "metadata": {},
   "source": [
    "# LCA with Brightway2.5 - Ecoinvent"
   ]
  },
  {
   "cell_type": "markdown",
   "id": "a4435eea-d125-4976-8064-90f51bc7ef71",
   "metadata": {},
   "source": [
    "This notebook was designed to conduct LCAs using the brightway2.5 framework. I will add content in the future and make the code run more efficiently. For now, everything works within its limits and newcomers should have an easy entry to LCA using brightway.  \n",
    "\n",
    "If you need to read up on literature, I provided some links about the tools, you'll be working with:  \n",
    "\n",
    "1. [Python](https://www.python.org/)\n",
    "2. [Brightway2.5](https://docs.brightway.dev/en/legacy/)\n",
    "3. [Ecoinvent 3.11](https://ecoquery.ecoinvent.org/3.11/cutoff)\n",
    "4. [Premise](https://premise.readthedocs.io/en/latest/)\n",
    "\n",
    "Before you start, check the kernel on the top right. It should be \"Python (env_bw25)\" or whatever you named it in your virtual environment. If you are missing some functionality, check the brightway [cheat sheet](https://docs.brightway.dev/en/latest/content/cheatsheet/index.html).  \n",
    "\n",
    "Enough blib blab, let's get started! 👾"
   ]
  },
  {
   "cell_type": "markdown",
   "id": "8c4ec2a4-2335-4656-a82c-8a579cee7286",
   "metadata": {},
   "source": [
    "### Step 0: Preparation"
   ]
  },
  {
   "cell_type": "code",
   "execution_count": null,
   "id": "b295c4aa-d167-4249-8b5a-79f8aef7153f",
   "metadata": {},
   "outputs": [],
   "source": [
    "# Start by importing the brightway packages and some addons to calculate the results.\n",
    "# There is no magic happening yet so don't get all excited.\n",
    "\n",
    "# Brightway packages.\n",
    "import bw2data as bd\n",
    "import bw2io as bi\n",
    "import bw2calc as bc\n",
    "\n",
    "# Packages for calculation and stuff.\n",
    "import matplotlib.pyplot as plt\n",
    "import numpy as np\n",
    "import pandas as pd\n",
    "\n",
    "# System & authentication packages.\n",
    "import os\n",
    "from dotenv import load_dotenv\n",
    "\n",
    "# Ecoinvent packages.\n",
    "from ecoinvent_interface import Settings, EcoinventRelease, ReleaseType\n",
    "\n",
    "# Extra package to create codes for your activities.\n",
    "import hashlib\n",
    "\n",
    "# Packages for prospective LCA - currently only possbile for ecoinvent3.10 and lower\n",
    "from premise import *\n",
    "\n",
    "# Brightway version check, in case an error occurs.\n",
    "print(\"bw2data version\", bd.__version__)\n",
    "print(\"bw2io version\", bi.__version__)\n",
    "print(\"bw2calc version\", bc.__version__)"
   ]
  },
  {
   "cell_type": "markdown",
   "id": "e658d4a8-da1f-4641-a966-82ebcae1e55d",
   "metadata": {},
   "source": [
    "### Step 1: Project setup"
   ]
  },
  {
   "cell_type": "markdown",
   "id": "2c52d4d1-0c84-4ec8-8962-aaac4fce4303",
   "metadata": {},
   "source": [
    "Brightway is organized in projects to separate the individual settings of your LCA. Project management functions are included and self-explanatory.  \n",
    "\n",
    "Continue by setting up your project."
   ]
  },
  {
   "cell_type": "code",
   "execution_count": null,
   "id": "f0ac5318-2fa1-44ec-b9c9-0d9d38ae8124",
   "metadata": {},
   "outputs": [],
   "source": [
    "# Checking the projects never hurts and gives you an overview of all available projects.\n",
    "bd.projects\n",
    "\n",
    "# Optional: delete depricated projects; delete_dir=True deletes the project, delete_dir=False hides the project\n",
    "# bd.projects.delete_project(name='<your_project>', delete_dir=True)"
   ]
  },
  {
   "cell_type": "code",
   "execution_count": null,
   "id": "0c3a5cd9-0205-4203-847b-fd504951085d",
   "metadata": {},
   "outputs": [],
   "source": [
    "# Choose your project: activate an existing project or create and activate a new one.\n",
    "bd.projects.set_current(\"premise_test\")\n",
    "bd.projects"
   ]
  },
  {
   "cell_type": "markdown",
   "id": "f5d174c1-5926-4f2f-9c1f-6406df2c2af0",
   "metadata": {},
   "source": [
    "### Step 2: Import Ecoinvent as background "
   ]
  },
  {
   "cell_type": "markdown",
   "id": "2621dca5-1258-430b-baf3-f602aa8d01c0",
   "metadata": {},
   "source": [
    "Before you can start importing the background database, you need to store your credentials. Otherwise, you won't have access to the data. For convenience, you can use an .env file where you store the user and passcode information locally on your machine.  \n",
    "1. Create an .env file next to this notebook.\n",
    "2. Get your Ecoinvent credentials and save them as variables in the .env like so:\n",
    "\n",
    "> USER=\"YOUR_USERNAME\"  \n",
    "> PASSCODE=\"YOUR_PASSWORD\"\n",
    "\n",
    "The .env keeps your credentials out of this notebook."
   ]
  },
  {
   "cell_type": "code",
   "execution_count": null,
   "id": "e96aae6c-807c-47e1-a85f-bd5d6cda0aa7",
   "metadata": {},
   "outputs": [],
   "source": [
    "# Check the current databases in your active project.\n",
    "bd.databases"
   ]
  },
  {
   "cell_type": "code",
   "execution_count": null,
   "id": "1adb282a-25a7-40b0-bd13-5dd08e7f3136",
   "metadata": {},
   "outputs": [],
   "source": [
    "# Authenticate to Ecoinvent to check available databases.\n",
    "load_dotenv()\n",
    "auth = Settings(username=os.getenv('USER'), password=os.getenv('PASSCODE'))\n",
    "release = EcoinventRelease(auth)\n",
    "release.list_versions()"
   ]
  },
  {
   "cell_type": "code",
   "execution_count": null,
   "id": "fc87db2c-1108-446c-bf9f-9456eecffb1b",
   "metadata": {},
   "outputs": [],
   "source": [
    "# Insert the db version you want to work with to check for the avialable system models.\n",
    "release.list_system_models('3.10')"
   ]
  },
  {
   "cell_type": "code",
   "execution_count": null,
   "id": "b345b7f2-f29a-46aa-b077-101aa22f6f3c",
   "metadata": {},
   "outputs": [],
   "source": [
    "# Specify the database version and model in variables.\n",
    "db_version='3.10'\n",
    "db_system_model='cutoff'\n",
    "print(f'The background database has been set to ecoinvent-{db_version}-{db_system_model}')"
   ]
  },
  {
   "cell_type": "code",
   "execution_count": null,
   "id": "d290e318-365d-4714-9488-8eeafa07bbac",
   "metadata": {},
   "outputs": [],
   "source": [
    "# Preemptive check, if the desired database is already present.\n",
    "# If not: Importing database.. This may take some time.\n",
    "if f'ecoinvent-{db_version}-{db_system_model}' in bd.databases:\n",
    "    print(f'ecoinvent {db_version} is already present in the project')\n",
    "else:\n",
    "    bi.import_ecoinvent_release(\n",
    "        version=db_version,\n",
    "        system_model=db_system_model,\n",
    "        username=os.getenv('USER'),\n",
    "        password=os.getenv('PASSCODE')\n",
    "    )"
   ]
  },
  {
   "cell_type": "code",
   "execution_count": null,
   "id": "777c8618-2072-4d53-88b7-9fffbeb87bdc",
   "metadata": {},
   "outputs": [],
   "source": [
    "# Checking project databases\n",
    "bd.databases"
   ]
  },
  {
   "cell_type": "markdown",
   "id": "0ff68718",
   "metadata": {},
   "source": [
    "### Premise"
   ]
  },
  {
   "cell_type": "code",
   "execution_count": null,
   "id": "39530483",
   "metadata": {},
   "outputs": [],
   "source": [
    "# Create a premise database based on an existing ecoinvent background database\n",
    "ndb = NewDatabase(\n",
    "    scenarios=[\n",
    "        {\"model\":\"image\", \"pathway\":\"SSP2-RCP19\", \"year\":2050},\n",
    "        {\"model\":\"remind\", \"pathway\":\"SSP2-PkBudg500\", \"year\":2050},\n",
    "    ],\n",
    "    source_db=\"ecoinvent-3.10-cutoff\", # <-- name of the database in the BW2 project. Must be a string.\n",
    "    source_version=\"3.10\", # <-- version of ecoinvent. Can be \"3.8\", \"3.9\" or \"3.10\". Must be a string.\n",
    "    biosphere_name = \"ecoinvent-3.10-biosphere\", # name of biosphere database in brightway project if different from \"biosphere3\"\n",
    "    key=os.getenv('KEY'), # <-- decryption key\n",
    "    # to be requested from the library maintainers if you want ot use default scenarios included in `premise`\n",
    "    keep_source_db_uncertainty=False, # False by default, set to True if you want to keep ecoinvent's uncertainty data\n",
    "    keep_imports_uncertainty=False, # False by default, set to True if you want to keep the uncertainty data of the additional inventories\n",
    "    use_absolute_efficiency=True, # False by default, set to True if you want to use the IAM's absolute efficiencies\n",
    ")"
   ]
  },
  {
   "cell_type": "code",
   "execution_count": null,
   "id": "0402f8f2",
   "metadata": {},
   "outputs": [],
   "source": [
    "# Add additional IAM projections, which change the future scenario data; for all transformation functions, see https://github.com/polca/premise/blob/master/examples/examples.ipynb\n",
    "ndb.update() # Leave empty to update all sectors"
   ]
  },
  {
   "cell_type": "code",
   "execution_count": null,
   "id": "c11191a8",
   "metadata": {},
   "outputs": [],
   "source": [
    "# Save newly created database to brightway as a new background database, one for each defined year\n",
    "ndb.write_db_to_brightway() # Give custom names like ndb.write_db_to_brightway(name=[\"my_custom_name_1\", \"my_custom_name_2\"])"
   ]
  },
  {
   "cell_type": "code",
   "execution_count": null,
   "id": "16211663",
   "metadata": {},
   "outputs": [],
   "source": [
    "bd.databases"
   ]
  },
  {
   "cell_type": "markdown",
   "id": "70c52020-5142-4794-80ae-64e81e600601",
   "metadata": {},
   "source": [
    "### Step 3: Match foreground database"
   ]
  },
  {
   "cell_type": "markdown",
   "id": "486e5870-d982-44a0-9aa1-32eeaefd70f8",
   "metadata": {},
   "source": [
    "Your foreground database contains the LCI data of your product system. This has to be prepared in an excel file. I included an example file with explainations and hints on how to structure your LCI data in order for the import to function correctly.  \n",
    "\n",
    "> You can continue with the template to see how it works OR prepare your LCI data for your LCA.  "
   ]
  },
  {
   "cell_type": "markdown",
   "id": "55127f7b-e54f-4d80-8ba7-eb4dfc200d07",
   "metadata": {
    "jp-MarkdownHeadingCollapsed": true
   },
   "source": [
    "#### Creating codes for activities"
   ]
  },
  {
   "cell_type": "markdown",
   "id": "04479e0c-fab5-4cfe-b073-d06e8e86a05d",
   "metadata": {},
   "source": [
    "As each activity has to be equipped with an unique code, I included the following hash function. You can insert an activity and use the generated hash as its code in your excel file."
   ]
  },
  {
   "cell_type": "code",
   "execution_count": null,
   "id": "eb98a348-aca4-4871-968f-bd4434fd4005",
   "metadata": {},
   "outputs": [],
   "source": [
    "# Optional: Hash your activities to create individual codes for them.\n",
    "activity = \"<activity_name>\"\n",
    "\n",
    "# Calculate the MD5 hash\n",
    "code = hashlib.md5(activity.encode()).hexdigest()\n",
    "print(code)"
   ]
  },
  {
   "cell_type": "markdown",
   "id": "3e338173-04f7-4ddd-bca0-71928473474d",
   "metadata": {},
   "source": [
    "#### Import foreground database"
   ]
  },
  {
   "cell_type": "markdown",
   "id": "0fa2ce13-c216-47fc-a7b0-cc598830e64d",
   "metadata": {},
   "source": [
    "At this point, you have to decide, which background database you want to use in your LCA. Per default, the declared version of the previous step will be used. If you wish to change that, adjust the variables in Step 2 accordingly."
   ]
  },
  {
   "cell_type": "code",
   "execution_count": null,
   "id": "bcc0118b",
   "metadata": {},
   "outputs": [],
   "source": [
    "# Setting variables for background database.\n",
    "bg_db = f'ecoinvent-{db_version}'\n",
    "bg_sys = f'ecoinvent-{db_version}-{db_system_model}'\n",
    "bg_bio = f'ecoinvent-{db_version}-biosphere'"
   ]
  },
  {
   "cell_type": "code",
   "execution_count": null,
   "id": "68fda748",
   "metadata": {},
   "outputs": [],
   "source": [
    "# Setting variables for premise background database.\n",
    "bg_db = f'ei_cutoff_3.10_image_SSP2-RCP19_2050 2025-05-28'\n",
    "bg_sys = f'ecoinvent-{db_version}-{db_system_model}'\n",
    "bg_bio = f'ecoinvent-{db_version}-biosphere'"
   ]
  },
  {
   "cell_type": "code",
   "execution_count": null,
   "id": "3dfb819d-7e8c-4c0b-a729-52c6ae08bc62",
   "metadata": {},
   "outputs": [],
   "source": [
    "# Set the foreground database.\n",
    "excel_file = \"example_template.xlsx\"\n",
    "fg_db = bi.ExcelImporter(excel_file)\n",
    "\n",
    "# Matching activities against themselves and against ecoinvent system model and biosphere to check for inconsistencies.\n",
    "fg_db.apply_strategies()\n",
    "fg_db.match_database(fields=[\"name\", \"unit\", \"reference product\", \"location\"])\n",
    "fg_db.match_database(bg_sys, fields=[\"name\", \"unit\", \"location\", \"reference product\"])\n",
    "fg_db.match_database(bg_bio, fields=[\"name\", \"categories\", \"location\"])\n",
    "\n",
    "# Checking for unlinked exchanges.\n",
    "fg_db.statistics()"
   ]
  },
  {
   "cell_type": "code",
   "execution_count": null,
   "id": "38c552fd",
   "metadata": {},
   "outputs": [],
   "source": [
    "# In case any unlinked exchanges are present, locate the missmatches and fix them.\n",
    "list(fg_db.unlinked)"
   ]
  },
  {
   "cell_type": "code",
   "execution_count": null,
   "id": "600e10e0-c85a-4041-a5ce-94ec36b2fa1b",
   "metadata": {},
   "outputs": [],
   "source": [
    "# If no unlinked exchanges are present, save the foreground database to your project.\n",
    "if fg_db.db_name in bd.databases:\n",
    "    del bd.databases[fg_db.db_name]\n",
    "    fg_db.write_database()\n",
    "else:\n",
    "    fg_db.write_database()\n",
    "\n",
    "bd.Database(fg_db.db_name).rename(f'{fg_db.db_name}_{bg_db}')"
   ]
  },
  {
   "cell_type": "code",
   "execution_count": null,
   "id": "12840fd4-769f-40cd-9a49-07ecb855cb67",
   "metadata": {},
   "outputs": [],
   "source": [
    "# Checking project databases\n",
    "bd.databases\n",
    "\n",
    "# Deleting database\n",
    "# del bd.databases[\"<database_name>\"]"
   ]
  },
  {
   "cell_type": "markdown",
   "id": "22caf644-9d45-4efc-a7ca-9e0e917cbc3f",
   "metadata": {},
   "source": [
    "### Step 4: Calculation setup"
   ]
  },
  {
   "cell_type": "markdown",
   "id": "527f0168-f161-4379-803c-20e64efce690",
   "metadata": {},
   "source": [
    "#### Functional Unit"
   ]
  },
  {
   "cell_type": "markdown",
   "id": "cf569b4f-ca6a-4992-9a97-e44b1e89ecdb",
   "metadata": {},
   "source": [
    "With our data in place, we now have to define the parameters of our LCA. In our excel file, the data is structured in processes and activities. Brightway lets us choose the number of activities (as functional units) and methods for our LCA.  \n",
    "\n",
    "Tbd."
   ]
  },
  {
   "cell_type": "code",
   "execution_count": null,
   "id": "ef1cad3f-86e3-4058-87e9-35c085587807",
   "metadata": {},
   "outputs": [],
   "source": [
    "# Checking project databases\n",
    "bd.databases"
   ]
  },
  {
   "cell_type": "code",
   "execution_count": null,
   "id": "83c323c8-9863-4034-b0b0-db79a1351b9a",
   "metadata": {},
   "outputs": [],
   "source": [
    "# Choose the database for the LCA\n",
    "wb = bd.Database(\"UFO LCA_ei_cutoff_3.10_image_SSP2-RCP19_2050 2025-05-28\")\n",
    "\n",
    "# User choice: calculate all activities or specific ones\n",
    "user_choice = input(\"Do you want to calculate all activities or specific ones? (type 'all' or 'specific'): \").strip().lower()\n",
    "\n",
    "if user_choice == 'all':\n",
    "    # If the user wants all activities, loop through them\n",
    "    fu = {act[\"code\"]: {wb.get(act[\"code\"]).id: 1} for act in wb}\n",
    "elif user_choice == 'specific':\n",
    "    # Print all available activities\n",
    "    print(\"Available Activities:\")\n",
    "    for act in wb:\n",
    "        print(act['name'])\n",
    "        \n",
    "    # Ask the user to enter the names of the activities they want\n",
    "    specific_names = input(\"Enter the names of the activities you want to include, separated by commas: \").split(',')\n",
    "\n",
    "    # Create the functional unit based on user input\n",
    "    fu = {}\n",
    "    for name in specific_names:\n",
    "        cleaned_name = name.strip()  # Remove any extra spaces\n",
    "        # Find the corresponding activity by name\n",
    "        matching_activities = [act for act in wb if act['name'].strip().lower() == cleaned_name.lower()]\n",
    "        \n",
    "        if matching_activities:\n",
    "            for act in matching_activities:\n",
    "                fu[act[\"code\"]] = {wb.get(act[\"code\"]).id: 1}\n",
    "        else:\n",
    "            print(f\"Warning: Activity with name '{cleaned_name}' not found in database.\")\n",
    "else:\n",
    "    print(\"Invalid choice. Please type 'all' or 'specific'.\")\n",
    "\n",
    "print(\"The functional unit has been set accordingly.\")"
   ]
  },
  {
   "cell_type": "markdown",
   "id": "e2abd433-9a6a-483f-84fc-6d7481c34761",
   "metadata": {},
   "source": [
    "#### LCIA method"
   ]
  },
  {
   "cell_type": "markdown",
   "id": "692584b4-25aa-4f19-872c-20b7b84457e4",
   "metadata": {},
   "source": [
    "Brightway allowes most LCIA methods to be used in the LCA. Available LCIA methods depend on the database version used in the background.  \n",
    "> Note: Each LCIA method contains various characterization factors or indicators.  \n",
    "> E.g. climate change, acidification, water use, etc.\n",
    "\n",
    "For customization purposes, this template lists all available methods from which you can choose."
   ]
  },
  {
   "cell_type": "code",
   "execution_count": null,
   "id": "01c8a5cc-95bd-48e7-b80f-e2b01b7e14e4",
   "metadata": {},
   "outputs": [],
   "source": [
    "# Use a set to store unique second entries\n",
    "lcia_methods = set()\n",
    "\n",
    "# Iterate through the data structure and add the second element of each tuple to the set\n",
    "for method in list(filter(lambda x: bg_db in x[0], bd.methods)):\n",
    "    lcia_methods.add(method[1])\n",
    "\n",
    "print(sorted(lcia_methods))"
   ]
  },
  {
   "cell_type": "code",
   "execution_count": null,
   "id": "69ffe072",
   "metadata": {},
   "outputs": [],
   "source": [
    "# Premise\n",
    "print(sorted(bd.methods.keys()))"
   ]
  },
  {
   "cell_type": "code",
   "execution_count": null,
   "id": "5ee9eca0",
   "metadata": {},
   "outputs": [],
   "source": [
    "# Premise\n",
    "ef_methods = list(filter(lambda x: \"EF v3.1 no LT\" in x[1], list(bd.methods)))\n",
    "print(\"We have\", len(ef_methods), \"EF v3.1 no LT methods we will evaluate.\")\n",
    "\n",
    "config = {\n",
    "    \"impact_categories\": ef_methods\n",
    "}\n",
    "\n",
    "# Create our final LCA object used for the calculation in the next step.\n",
    "data_objs = bd.get_multilca_data_objs(functional_units=fu, method_config=config)"
   ]
  },
  {
   "cell_type": "code",
   "execution_count": null,
   "id": "6f5d713d-8c7a-418e-a9e2-12fc6e4afdc7",
   "metadata": {},
   "outputs": [],
   "source": [
    "# Choose your LCIA method\n",
    "lcia_method = \"EF v3.1 no LT\""
   ]
  },
  {
   "cell_type": "code",
   "execution_count": null,
   "id": "ef5bf4c2-feaa-495f-ae80-398c22f43a74",
   "metadata": {},
   "outputs": [],
   "source": [
    "# Setting the method config and LCA object.\n",
    "my_methods = list(filter(lambda x: lcia_method in x[1] and x[0].startswith(bg_db), bd.methods))\n",
    "print(\"We have\", len(my_methods), f\"{lcia_method} methods we will evaluate.\")\n",
    "\n",
    "config = {\n",
    "    \"impact_categories\": my_methods\n",
    "}\n",
    "\n",
    "# Create our final LCA object used for the calculation in the next step.\n",
    "data_objs = bd.get_multilca_data_objs(functional_units=fu, method_config=config)"
   ]
  },
  {
   "cell_type": "markdown",
   "id": "b11438cb-67c2-47f1-b737-19b0eb3b2326",
   "metadata": {},
   "source": [
    "### Step 5: Calculation"
   ]
  },
  {
   "cell_type": "code",
   "execution_count": null,
   "id": "fde32ad8-d06d-42d4-a854-d0cf3de8c7e8",
   "metadata": {},
   "outputs": [],
   "source": [
    "# Calculate MultiLCA\n",
    "lca = bc.MultiLCA(demands=fu, method_config=config, data_objs=data_objs)\n",
    "lca.lci()\n",
    "lca.lcia()\n",
    "\n",
    "# Choose between single or multi LCA\n",
    "# lca.score\n",
    "# Format the results\n",
    "raw_results = lca.scores\n",
    "def transform_raw_results(raw_results, wb):\n",
    "    transformed_results = {}\n",
    "    \n",
    "    for (key, hash_value), outcome in raw_results.items():\n",
    "        # Extract the third value from the first part of the key\n",
    "        category = key[2]  # This corresponds to the third value (e.g., 'climate change', 'human health', etc.)\n",
    "        \n",
    "        # Use wb.get() to fetch the activity name directly\n",
    "        activity_name = wb.get(hash_value)[\"name\"]\n",
    "        \n",
    "        # Construct the new key\n",
    "        new_key = (activity_name, category)\n",
    "        \n",
    "        # Add the new key and outcome to the transformed results\n",
    "        transformed_results[new_key] = outcome\n",
    "    \n",
    "    return transformed_results\n",
    "\n",
    "lca_results = transform_raw_results(raw_results, wb)"
   ]
  },
  {
   "cell_type": "code",
   "execution_count": null,
   "id": "f8de5ac3-5306-4331-a349-f78141c75067",
   "metadata": {},
   "outputs": [],
   "source": [
    "# Display the results in a table\n",
    "dfresults = pd.DataFrame.from_dict(lca_results, orient='index')\n",
    "dfresults.index = pd.MultiIndex.from_tuples(dfresults.index, names=('Activities', lcia_method))\n",
    "dfresults = dfresults.unstack(level=lcia_method)\n",
    "dfresults.columns = dfresults.columns.droplevel(0)\n",
    "dfresults"
   ]
  },
  {
   "cell_type": "code",
   "execution_count": null,
   "id": "a8d9ce9c",
   "metadata": {},
   "outputs": [],
   "source": [
    "# Display the results in a table\n",
    "dfresults = pd.DataFrame.from_dict(lca_results, orient='index')\n",
    "dfresults.index = pd.MultiIndex.from_tuples(dfresults.index, names=('Activities', lcia_method))\n",
    "dfresults = dfresults.unstack(level=lcia_method)\n",
    "dfresults.columns = dfresults.columns.droplevel(0)\n",
    "dfresults"
   ]
  }
 ],
 "metadata": {
  "kernelspec": {
   "display_name": "Python (brightway25)",
   "language": "python",
   "name": "brightway25"
  },
  "language_info": {
   "codemirror_mode": {
    "name": "ipython",
    "version": 3
   },
   "file_extension": ".py",
   "mimetype": "text/x-python",
   "name": "python",
   "nbconvert_exporter": "python",
   "pygments_lexer": "ipython3",
   "version": "3.11.12"
  }
 },
 "nbformat": 4,
 "nbformat_minor": 5
}
